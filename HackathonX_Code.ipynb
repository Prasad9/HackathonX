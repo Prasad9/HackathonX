{
 "cells": [
  {
   "cell_type": "markdown",
   "metadata": {},
   "source": [
    "# Ditto Detector"
   ]
  },
  {
   "cell_type": "markdown",
   "metadata": {},
   "source": [
    "## Import Requirements"
   ]
  },
  {
   "cell_type": "code",
   "execution_count": 1,
   "metadata": {},
   "outputs": [],
   "source": [
    "import requests\n",
    "from multiprocessing import Pool\n",
    "import pandas as pd\n",
    "from tqdm import tqdm\n",
    "import os\n",
    "import numpy as np\n",
    "import tensorflow as tf\n",
    "import tensorflow_hub as hub\n",
    "import nmslib\n",
    "import matplotlib.pyplot as plt\n",
    "import matplotlib.image as mpimg"
   ]
  },
  {
   "cell_type": "markdown",
   "metadata": {},
   "source": [
    "## Downloading The Files "
   ]
  },
  {
   "cell_type": "code",
   "execution_count": 2,
   "metadata": {},
   "outputs": [],
   "source": [
    "def download_images(csv_file):\n",
    "    df = pd.read_csv(csv_file)\n",
    "    files = df['images'].values\n",
    "    if not os.path.exists('Images'):\n",
    "        os.mkdir('Images')\n",
    "        \n",
    "    with Pool(10) as p:\n",
    "        p.map(download_image, files)\n",
    "\n",
    "\n",
    "def download_image(file_url):\n",
    "    filename = 'Images/' + file_url.split('/')[-1]\n",
    "    r = requests.get(file_url, allow_redirects=True)\n",
    "    open(filename, 'wb').write(r.content)"
   ]
  },
  {
   "cell_type": "code",
   "execution_count": 3,
   "metadata": {},
   "outputs": [],
   "source": [
    "download_images('local_back_robe_5000.csv')"
   ]
  },
  {
   "cell_type": "markdown",
   "metadata": {},
   "source": [
    "## Image and Text Embeddings "
   ]
  },
  {
   "cell_type": "code",
   "execution_count": 4,
   "metadata": {},
   "outputs": [],
   "source": [
    "\n",
    "class ImageEmbedding:\n",
    "  def __init__(self, params):\n",
    "    self._img_size = params['IMAGE_SIZE']\n",
    "    self._embeddings_model = hub.load(params['IMAGE_HUB_PATH'])\n",
    "\n",
    "  def generate_embedding(self, file_path):\n",
    "    file_path = file_path[0]\n",
    "    img = tf.io.read_file(file_path)\n",
    "    img = tf.image.decode_jpeg(img, channels=3)\n",
    "    img = tf.image.resize(img, self._img_size)\n",
    "    img = tf.expand_dims(img, axis=0)\n",
    "\n",
    "    embedding = self._embeddings_model(img)\n",
    "    embedding = tf.squeeze(embedding)\n",
    "    return embedding\n",
    "\n",
    "class TextEmbedding:\n",
    "  def __init__(self, params):\n",
    "    self._embeddings_model = hub.load(params['TEXT_HUB_PATH'])\n",
    "\n",
    "  def generate_embedding(self, text_list):\n",
    "    embedding = self._embeddings_model(text_list)\n",
    "    embedding = tf.squeeze(embedding)\n",
    "    return embedding"
   ]
  },
  {
   "cell_type": "markdown",
   "metadata": {},
   "source": [
    "## Data Reader "
   ]
  },
  {
   "cell_type": "code",
   "execution_count": 5,
   "metadata": {},
   "outputs": [],
   "source": [
    "\n",
    "class Data:\n",
    "    def __init__(self, params):\n",
    "        self._csv_file = params['CSV_FILE']\n",
    "        self._batch_size = params['BATCH_SIZE']\n",
    "\n",
    "        self._image_embeddings = ImageEmbedding(params)\n",
    "        self._text_embeddings = TextEmbedding(params)\n",
    "\n",
    "        self.csv_ds = self._prepare_dataset()\n",
    "\n",
    "    def _prepare_dataset(self):\n",
    "        csv_ds = tf.data.experimental.make_csv_dataset(self._csv_file, batch_size=1)\n",
    "        csv_ds = csv_ds.map(self._map_row)\n",
    "        csv_ds = csv_ds.batch(self._batch_size) #, drop_remainder=True)\n",
    "        # csv_ds = csv_ds.prefetch(10 * self._batch_size)\n",
    "        return csv_ds\n",
    "\n",
    "    def _map_row(self, row):\n",
    "        img_path = row['local_images']\n",
    "        text_desc = row['description']\n",
    "        embedding = self.generate_sample_embedding(img_path, text_desc)\n",
    "\n",
    "        return embedding, img_path, text_desc\n",
    "\n",
    "    def generate_sample_embedding(self, img_path, text_desc):\n",
    "        img_embedding = self._image_embeddings.generate_embedding(img_path)\n",
    "        text_embedding = self._text_embeddings.generate_embedding(text_desc)\n",
    "        embedding = tf.concat((img_embedding, text_embedding), axis=-1)\n",
    "        return embedding\n",
    "\n",
    "    def generate_embeddings(self, n_samples):\n",
    "        mini_batches = n_samples // self._batch_size\n",
    "        embeddings = []\n",
    "        img_paths = []\n",
    "        descriptions = []\n",
    "        print('Reading input data.....')\n",
    "        for e, i, d in tqdm(self.csv_ds.take(mini_batches)):\n",
    "            embeddings.append(e)\n",
    "            img_paths.append(i)\n",
    "            descriptions.append(d)\n",
    "\n",
    "        embeddings = np.concatenate(embeddings, axis=0)\n",
    "        img_paths = np.concatenate(img_paths, axis=0)\n",
    "        descriptions = np.concatenate(descriptions, axis=0)\n",
    "        \n",
    "\n",
    "        return embeddings, img_paths, descriptions"
   ]
  },
  {
   "cell_type": "markdown",
   "metadata": {},
   "source": [
    "## Feature Space Clustering"
   ]
  },
  {
   "cell_type": "code",
   "execution_count": 6,
   "metadata": {},
   "outputs": [],
   "source": [
    "\n",
    "class Cluster:\n",
    "    def __init__(self, params):\n",
    "        self._data = Data(params)\n",
    "        self._threshold_at = params['THRESHOLD']\n",
    "        n_samples = params['N_SAMPLES']\n",
    "        embeddings, self._img_paths, self._descriptions = self._data.generate_embeddings(n_samples)\n",
    "\n",
    "        self._data_index = self._create_data_index(embeddings)\n",
    "        del embeddings\n",
    "        \n",
    "        \n",
    "\n",
    "    def _create_data_index(self, embeddings):\n",
    "        data_index = nmslib.init(method='hnsw', space='cosinesimil')\n",
    "        data_index.addDataPointBatch(embeddings)\n",
    "        data_index.createIndex({'post': 2}, print_progress=True)\n",
    "        return data_index\n",
    "\n",
    "    def get_nearest_neighbor(self, img_path, text_desc):\n",
    "        sample_embedding = self._data.generate_sample_embedding(img_path, text_desc)\n",
    "        ids, distances = self._data_index.knnQuery(sample_embedding, k=1)\n",
    "        \n",
    "        is_valid = distances[0] >= self._threshold_at\n",
    "        ret_path, desc = '', ''\n",
    "        if not is_valid:\n",
    "            ret_path = self._img_paths[ids[0]]\n",
    "            desc = self._descriptions[ids[0]]\n",
    "        return is_valid, ret_path, desc"
   ]
  },
  {
   "cell_type": "markdown",
   "metadata": {},
   "source": [
    "## Code Execution"
   ]
  },
  {
   "cell_type": "code",
   "execution_count": 7,
   "metadata": {},
   "outputs": [
    {
     "name": "stderr",
     "output_type": "stream",
     "text": [
      "0it [00:00, ?it/s]"
     ]
    },
    {
     "name": "stdout",
     "output_type": "stream",
     "text": [
      "Reading input data.....\n"
     ]
    },
    {
     "name": "stderr",
     "output_type": "stream",
     "text": [
      "78it [03:55,  3.02s/it]\n"
     ]
    }
   ],
   "source": [
    "params = {\n",
    "    'IMAGE_HUB_PATH': 'https://tfhub.dev/google/imagenet/mobilenet_v2_100_224/feature_vector/4',\n",
    "    'IMAGE_SIZE': (224, 224),\n",
    "    'TEXT_HUB_PATH': 'https://tfhub.dev/google/universal-sentence-encoder/4',\n",
    "    'CSV_FILE': 'local_back_robe_5000.csv',\n",
    "    'BATCH_SIZE': 64,\n",
    "    'N_SAMPLES': 5000,\n",
    "    'THRESHOLD': 0.05\n",
    "}\n",
    "\n",
    "cluster = Cluster(params)"
   ]
  },
  {
   "cell_type": "markdown",
   "metadata": {},
   "source": [
    "## Utility Function"
   ]
  },
  {
   "cell_type": "code",
   "execution_count": 8,
   "metadata": {},
   "outputs": [],
   "source": [
    "def is_listing_genuine(img_path, text_desc):\n",
    "    is_valid, ret_path, desc = cluster.get_nearest_neighbor([img_path], [text_desc])\n",
    "    if is_valid:\n",
    "        print('Success, your product has been accepted')\n",
    "    else:\n",
    "        print('Failed, your product is very close to following image and description')\n",
    "        img = mpimg.imread(ret_path[0].decode('ascii'))\n",
    "        plt.imshow(img)\n",
    "        plt.axis('off')\n",
    "        plt.show()\n",
    "        print('DESCRIPTION:', desc[0].decode('ascii'))"
   ]
  },
  {
   "cell_type": "markdown",
   "metadata": {},
   "source": [
    "## Inputs"
   ]
  },
  {
   "cell_type": "code",
   "execution_count": 13,
   "metadata": {},
   "outputs": [
    {
     "name": "stdin",
     "output_type": "stream",
     "text": [
      " https://rukminim1.flixcart.com/image/832/832/khwbde80-0/bath-robe/1/j/0/bathrobe-half-sleeves-soft-terry-cotton-bathrobe-free-size-fit-original-imafxtdypnkunprt.jpeg?q=70\n"
     ]
    }
   ],
   "source": [
    "IMAGE_URL = input()\n",
    "# https://rukminim1.flixcart.com/image/746/895/khxqt8w0/track-pant/g/c/y/m-adaw20tp015b-adrenex-original-imafxtk4nmaj57zm.jpeg"
   ]
  },
  {
   "cell_type": "code",
   "execution_count": 14,
   "metadata": {},
   "outputs": [
    {
     "name": "stdin",
     "output_type": "stream",
     "text": [
      " Bathrobes have many advantages—whether bundling up after taking your bath or to cover up from the sun at the beach or relaxation center. And with the extensive display of fabrics, design, and bathrobe colors available, there must be one suitable for every age. Bathrobes are very important; they make us feel comfortable and give us a sense of luxury. Everyone needs that luxurious feeling at times, and bathrobes will always fill the choice.\n"
     ]
    }
   ],
   "source": [
    "TEXT_DESCRIPTION = input()\n",
    "# color light yellow Thailand"
   ]
  },
  {
   "cell_type": "code",
   "execution_count": 17,
   "metadata": {},
   "outputs": [
    {
     "name": "stdout",
     "output_type": "stream",
     "text": [
      "--2020-12-17 20:56:10--  https://rukminim1.flixcart.com/image/832/832/khwbde80-0/bath-robe/1/j/0/bathrobe-half-sleeves-soft-terry-cotton-bathrobe-free-size-fit-original-imafxtdypnkunprt.jpeg?q=70\n",
      "Resolving rukminim1.flixcart.com (rukminim1.flixcart.com)... 23.213.57.132\n",
      "Connecting to rukminim1.flixcart.com (rukminim1.flixcart.com)|23.213.57.132|:443... connected.\n",
      "HTTP request sent, awaiting response... 200 OK\n",
      "Length: 22372 (22K) [image/jpeg]\n",
      "Saving to: ‘image.jpeg’\n",
      "\n",
      "image.jpeg          100%[===================>]  21.85K  --.-KB/s    in 0.003s  \n",
      "\n",
      "2020-12-17 20:56:10 (8.48 MB/s) - ‘image.jpeg’ saved [22372/22372]\n",
      "\n"
     ]
    }
   ],
   "source": [
    "!wget $IMAGE_URL -O image.jpeg"
   ]
  },
  {
   "cell_type": "markdown",
   "metadata": {},
   "source": [
    "# Results"
   ]
  },
  {
   "cell_type": "code",
   "execution_count": 18,
   "metadata": {},
   "outputs": [
    {
     "name": "stdout",
     "output_type": "stream",
     "text": [
      "Success, your product has been accepted\n"
     ]
    }
   ],
   "source": [
    "is_listing_genuine('image.jpeg', TEXT_DESCRIPTION)"
   ]
  },
  {
   "cell_type": "code",
   "execution_count": 31,
   "metadata": {},
   "outputs": [
    {
     "name": "stdout",
     "output_type": "stream",
     "text": [
      "Failed, your product is very close to following image and description\n"
     ]
    },
    {
     "data": {
      "image/png": "[encoded data removed]",
      "text/plain": [
       "<Figure size 432x288 with 1 Axes>"
      ]
     },
     "metadata": {
      "needs_background": "light"
     },
     "output_type": "display_data"
    },
    {
     "name": "stdout",
     "output_type": "stream",
     "text": [
      "DESCRIPTION: Double color light yellow with white border Superiror Thailand\n"
     ]
    }
   ],
   "source": [
    "# text_desc = 'Double color light yellow with white border Superiror Thailand'\n",
    "text_desc = 'Double color light yellow Thailand'\n",
    "img_path = 'Images/gw10r05f0009-g-gotewala-bath-gown-original-imae6th5fgayppvz.jpeg'\n",
    "is_listing_genuine(img_path, text_desc)"
   ]
  },
  {
   "cell_type": "code",
   "execution_count": null,
   "metadata": {},
   "outputs": [],
   "source": []
  }
 ],
 "metadata": {
  "kernelspec": {
   "display_name": "Python 3",
   "language": "python",
   "name": "python3"
  },
  "language_info": {
   "codemirror_mode": {
    "name": "ipython",
    "version": 3
   },
   "file_extension": ".py",
   "mimetype": "text/x-python",
   "name": "python",
   "nbconvert_exporter": "python",
   "pygments_lexer": "ipython3",
   "version": "3.8.3"
  }
 },
 "nbformat": 4,
 "nbformat_minor": 4
}
